{
 "cells": [
  {
   "attachments": {},
   "cell_type": "markdown",
   "metadata": {},
   "source": [
    "# Kusto Query Language (KQL) overview\n",
    "\n",
    "Kusto Query Language는 data를 탐색하고, patterns 발견, 이상 현상이나 특이점을 확인하는 등의 통계 모델링을 생성하는 강력한 도구입니다. Query는 SQL에서 database 또는 tables, columns 등과 같이 계층적으로 조직화된 schema 항목을 사용합니다.\n",
    "\n",
    "Query는 하나 이상의 query statements로 구성되며 semicolon (`'`)으로 구분합니다.  Query는 아래의 3가지 종류가 있습니다:\n",
    "\n",
    "- A tabular expression statement\n",
    "- A let statement\n",
    "- A set statement\n",
    "\n",
    "Query는 tabular expression statement를 꼭 포함하여야 하며 tabular expression statement는 하나 이상의 tabular results를 생성합니다.\n"
   ]
  }
 ],
 "metadata": {
  "language_info": {
   "name": "python"
  },
  "orig_nbformat": 4
 },
 "nbformat": 4,
 "nbformat_minor": 2
}
